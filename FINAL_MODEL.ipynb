{
 "cells": [
  {
   "cell_type": "code",
   "execution_count": 1,
   "metadata": {
    "id": "PLfFTpVR0EXa"
   },
   "outputs": [],
   "source": [
    "# baseline cnn model for mnist\n",
    "from numpy import mean\n",
    "from numpy import std\n",
    "from matplotlib import pyplot as plt\n",
    "from sklearn.model_selection import KFold\n",
    "from tensorflow.keras.datasets import mnist\n",
    "from tensorflow.keras.utils import to_categorical\n",
    "from tensorflow.keras.models import Sequential\n",
    "from tensorflow.keras.layers import Conv2D\n",
    "from tensorflow.keras.layers import MaxPooling2D\n",
    "from tensorflow.keras.layers import Dense\n",
    "from tensorflow.keras.layers import Flatten\n",
    "from tensorflow.keras.optimizers import SGD\n",
    "from tensorflow.keras.layers import Flatten,Dense,BatchNormalization,Activation,Dropout\n",
    "\n",
    "import numpy as np # linear algebra\n",
    "import pandas as pd # data processing, CSV file I/O (e.g. pd.read_csv)\n",
    "from sklearn.utils.multiclass import unique_labels\n",
    "import os\n",
    "\n",
    "#Import standard libraries\n",
    "import matplotlib.pyplot as plt\n",
    "import matplotlib.image as mpimg\n",
    "import seaborn as sns\n",
    "%matplotlib inline\n",
    "\n",
    "import itertools\n",
    "from sklearn.model_selection import train_test_split\n",
    "from sklearn.metrics import confusion_matrix\n",
    "from sklearn.metrics import confusion_matrix, classification_report,plot_roc_curve, roc_curve,auc,roc_auc_score\n",
    "from sklearn.metrics import precision_recall_fscore_support as score\n",
    "from sklearn.preprocessing import LabelBinarizer"
   ]
  },
  {
   "cell_type": "code",
   "execution_count": 2,
   "metadata": {
    "colab": {
     "base_uri": "https://localhost:8080/"
    },
    "id": "6HcsLQlf0Lbk",
    "outputId": "773bd2c3-3842-4379-f63b-923ab1d76982"
   },
   "outputs": [],
   "source": [
    " # load dataset\n",
    "(trainX, trainY), (testX, testY) = mnist.load_data()\n",
    "# reshape dataset to have a single channel\n",
    "trainX = trainX.reshape((trainX.shape[0], 28, 28, 1))\n",
    "testX = testX.reshape((testX.shape[0], 28, 28, 1))\n",
    "trainY1 = trainY\n",
    "testY1 = testY\n",
    "\n",
    "\n",
    "# one hot encode target values\n",
    "trainY = to_categorical(trainY)\n",
    "testY = to_categorical(testY)"
   ]
  },
  {
   "cell_type": "code",
   "execution_count": 3,
   "metadata": {
    "id": "BEL-neer0Nni"
   },
   "outputs": [],
   "source": [
    "trainX = trainX / 255.0\n",
    "testX = testX / 255.0"
   ]
  },
  {
   "cell_type": "code",
   "execution_count": 4,
   "metadata": {
    "id": "9Wx2PC8c0PjP"
   },
   "outputs": [],
   "source": [
    "classes = [\"0\",\"1\",\"2\",\"3\",\"4\",\"5\",\"6\",\"7\",\"8\",\"9\"]"
   ]
  },
  {
   "cell_type": "code",
   "execution_count": 5,
   "metadata": {
    "id": "OXxKt3330WQm"
   },
   "outputs": [],
   "source": [
    "# To display confusion metric\n",
    "def confusion_metric(testY, predY):\n",
    "  print('Confusion Matrix')\n",
    "  #print(confusion_matrix(y_test, y_pred))\n",
    "  print('Classification Report')\n",
    "  report = classification_report(testY, predY, target_names=classes)\n",
    "  print(report)"
   ]
  },
  {
   "cell_type": "code",
   "execution_count": 6,
   "metadata": {
    "id": "mrZrBR4J0bK4"
   },
   "outputs": [],
   "source": [
    "# function for scoring roc auc score for multi-class\n",
    "def multiclass_roc_auc_score(testY, predY, average=\"macro\"):\n",
    "    # set plot figure size\n",
    "    fig, c_ax = plt.subplots(1,1, figsize = (12, 8))\n",
    "    \n",
    "    lb = LabelBinarizer()\n",
    "    lb.fit(testY)\n",
    "    testY = lb.transform(testY)\n",
    "    predY = lb.transform(predY)\n",
    "\n",
    "    for (idx, c_label) in enumerate(classes):\n",
    "        fpr, tpr, thresholds = roc_curve(testY[:,idx].astype(int), predY[:,idx])\n",
    "        c_ax.plot(fpr, tpr, label = '%s (AUC:%0.2f)'  % (c_label, auc(fpr, tpr)))\n",
    "    \n",
    "    c_ax.plot(fpr, fpr, 'b-', label = 'Random Guessing')\n",
    "    multiclass_roc =  roc_auc_score(\n",
    "        testY, predY, average=average)\n",
    "\n",
    "    print(f'ROC AUC score:',{multiclass_roc}),# multiclass_roc_auc_score(y_test, y_pred))\n",
    "\n",
    "    c_ax.legend()\n",
    "    c_ax.set_xlabel('False Positive Rate')\n",
    "    c_ax.set_ylabel('True Positive Rate')\n",
    "    plt.show()"
   ]
  },
  {
   "cell_type": "code",
   "execution_count": 7,
   "metadata": {
    "id": "TGB_bIzx0diA"
   },
   "outputs": [],
   "source": [
    "#functio for learning curve and accuracy plot\n",
    "import sys\n",
    "def summarize_diagnostics(history):\n",
    "  fig, c_ax = plt.subplots(1,1, figsize = (12, 8))\n",
    "# plot loss\n",
    "  plt.subplot(211)\n",
    "  plt.title('Cross Entropy Loss')\n",
    "  plt.plot(history.history['loss'], color='blue', label='train')\n",
    "  plt.plot(history.history['val_loss'], color='orange', label='test')\n",
    "# plot accuracy\n",
    "  plt.subplot(212)\n",
    "  plt.title('Classification Accuracy')\n",
    "  plt.plot(history.history['accuracy'], color='blue', label='train')\n",
    "  plt.plot(history.history['val_accuracy'], color='orange', label='test')\n",
    "\n",
    "  plt.show()\n",
    "  plt.close()"
   ]
  },
  {
   "cell_type": "code",
   "execution_count": 8,
   "metadata": {
    "id": "L3cTkC-Z0fs4"
   },
   "outputs": [],
   "source": [
    "# summarize model performance\n",
    "def summarize_performance(scores):\n",
    "    # print summary\n",
    "    print('Accuracy: mean=%.3f std=%.3f, n=%d' % (mean(scores)*100, std(scores)*100, len(scores)))\n",
    "    # box and whisker plots of results\n",
    "    plt.boxplot(scores)\n",
    "    plt.show()\n"
   ]
  },
  {
   "cell_type": "code",
   "execution_count": 9,
   "metadata": {
    "id": "KY36hCim0jRi"
   },
   "outputs": [],
   "source": [
    "model = Sequential()\n",
    "model.add(Conv2D(32, (3, 3), activation='relu', kernel_initializer='he_uniform', input_shape=(28, 28, 1)))\n",
    "model.add(MaxPooling2D((2, 2)))\n",
    "model.add(Dropout(0.2))\n",
    "model.add(Conv2D(64, (3, 3), activation='relu', kernel_initializer='he_uniform'))\n",
    "model.add(Conv2D(64, (3, 3), activation='relu', kernel_initializer='he_uniform'))\n",
    "model.add(MaxPooling2D((2, 2)))\n",
    "model.add(Dropout(0.2))\n",
    "model.add(Flatten())\n",
    "model.add(Dense(100, activation='relu', kernel_initializer='he_uniform'))\n",
    "model.add(Dropout(0.2))\n",
    "model.add(Dense(10, activation='softmax'))"
   ]
  },
  {
   "cell_type": "code",
   "execution_count": 10,
   "metadata": {
    "id": "HVF2s5ET0jUV"
   },
   "outputs": [],
   "source": [
    "opt = SGD(learning_rate=0.01, momentum=0.9)\n",
    "model.compile(optimizer=opt, loss='categorical_crossentropy', metrics=['accuracy'])"
   ]
  },
  {
   "cell_type": "code",
   "execution_count": 11,
   "metadata": {
    "id": "VQAgY1le1BLP"
   },
   "outputs": [],
   "source": [
    "# evaluate a model using k-fold cross-validation\n",
    "def evaluate_model(dataX, dataY, model, n_folds=5):\n",
    "    scores, histories = list(), list()\n",
    "    # prepare cross validation\n",
    "    kfold = KFold(n_folds, shuffle=True, random_state=1)\n",
    "    # enumerate splits\n",
    "    for train_ix, test_ix in kfold.split(dataX):\n",
    "        # define model\n",
    "        model = model\n",
    "        # select rows for train and test\n",
    "        trainX, trainY, testX, testY = dataX[train_ix], dataY[train_ix], dataX[test_ix], dataY[test_ix]\n",
    "        # fit model\n",
    "        history = model.fit(trainX, trainY, epochs=50, batch_size=64, validation_data=(testX, testY), verbose=1)\n",
    "        # evaluate model\n",
    "        _, acc = model.evaluate(testX, testY, verbose=0)\n",
    "        print('> %.3f' % (acc * 100.0))\n",
    "        # stores scores\n",
    "        scores.append(acc)\n",
    "        histories.append(history)\n",
    "    return scores, histories"
   ]
  },
  {
   "cell_type": "code",
   "execution_count": null,
   "metadata": {
    "colab": {
     "base_uri": "https://localhost:8080/"
    },
    "id": "zv54D_BLDnVW",
    "outputId": "063cbd11-bfb6-448c-fbb9-40eade88d2dc"
   },
   "outputs": [
    {
     "name": "stdout",
     "output_type": "stream",
     "text": [
      "Epoch 1/50\n",
      "750/750 [==============================] - 26s 34ms/step - loss: 0.2760 - accuracy: 0.9114 - val_loss: 0.0717 - val_accuracy: 0.9776\n",
      "Epoch 2/50\n",
      "750/750 [==============================] - 25s 33ms/step - loss: 0.0960 - accuracy: 0.9709 - val_loss: 0.0536 - val_accuracy: 0.9843\n",
      "Epoch 3/50\n",
      "750/750 [==============================] - 25s 33ms/step - loss: 0.0708 - accuracy: 0.9779 - val_loss: 0.0468 - val_accuracy: 0.9862\n",
      "Epoch 4/50\n",
      "750/750 [==============================] - 27s 36ms/step - loss: 0.0611 - accuracy: 0.9809 - val_loss: 0.0439 - val_accuracy: 0.9871\n",
      "Epoch 5/50\n",
      "750/750 [==============================] - 26s 35ms/step - loss: 0.0497 - accuracy: 0.9841 - val_loss: 0.0407 - val_accuracy: 0.9883\n",
      "Epoch 6/50\n",
      "750/750 [==============================] - 24s 32ms/step - loss: 0.0466 - accuracy: 0.9851 - val_loss: 0.0353 - val_accuracy: 0.9906\n",
      "Epoch 7/50\n",
      "750/750 [==============================] - 25s 34ms/step - loss: 0.0428 - accuracy: 0.9864 - val_loss: 0.0397 - val_accuracy: 0.9889\n",
      "Epoch 8/50\n",
      "750/750 [==============================] - 24s 32ms/step - loss: 0.0362 - accuracy: 0.9884 - val_loss: 0.0360 - val_accuracy: 0.9905\n",
      "Epoch 9/50\n",
      "750/750 [==============================] - 25s 33ms/step - loss: 0.0352 - accuracy: 0.9884 - val_loss: 0.0346 - val_accuracy: 0.9914\n",
      "Epoch 10/50\n",
      "750/750 [==============================] - 25s 33ms/step - loss: 0.0317 - accuracy: 0.9900 - val_loss: 0.0367 - val_accuracy: 0.9912\n",
      "Epoch 11/50\n",
      "750/750 [==============================] - 27s 36ms/step - loss: 0.0292 - accuracy: 0.9906 - val_loss: 0.0364 - val_accuracy: 0.9912\n",
      "Epoch 12/50\n",
      "750/750 [==============================] - 25s 34ms/step - loss: 0.0270 - accuracy: 0.9911 - val_loss: 0.0317 - val_accuracy: 0.9925\n",
      "Epoch 13/50\n",
      "750/750 [==============================] - 25s 34ms/step - loss: 0.0256 - accuracy: 0.9919 - val_loss: 0.0312 - val_accuracy: 0.9915\n",
      "Epoch 14/50\n",
      "750/750 [==============================] - 25s 34ms/step - loss: 0.0231 - accuracy: 0.9926 - val_loss: 0.0319 - val_accuracy: 0.9921\n",
      "Epoch 15/50\n",
      "750/750 [==============================] - 26s 35ms/step - loss: 0.0232 - accuracy: 0.9926 - val_loss: 0.0342 - val_accuracy: 0.9920\n",
      "Epoch 16/50\n",
      "750/750 [==============================] - 26s 35ms/step - loss: 0.0222 - accuracy: 0.9925 - val_loss: 0.0347 - val_accuracy: 0.9914\n",
      "Epoch 17/50\n",
      "750/750 [==============================] - 25s 33ms/step - loss: 0.0210 - accuracy: 0.9930 - val_loss: 0.0353 - val_accuracy: 0.9916\n",
      "Epoch 18/50\n",
      "750/750 [==============================] - 26s 34ms/step - loss: 0.0188 - accuracy: 0.9936 - val_loss: 0.0338 - val_accuracy: 0.9923\n",
      "Epoch 19/50\n",
      "750/750 [==============================] - 24s 33ms/step - loss: 0.0198 - accuracy: 0.9934 - val_loss: 0.0337 - val_accuracy: 0.9915\n",
      "Epoch 20/50\n",
      "750/750 [==============================] - 25s 34ms/step - loss: 0.0178 - accuracy: 0.9945 - val_loss: 0.0329 - val_accuracy: 0.9925\n",
      "Epoch 21/50\n",
      "750/750 [==============================] - 27s 37ms/step - loss: 0.0176 - accuracy: 0.9940 - val_loss: 0.0308 - val_accuracy: 0.9925\n",
      "Epoch 22/50\n",
      "750/750 [==============================] - 26s 35ms/step - loss: 0.0169 - accuracy: 0.9944 - val_loss: 0.0324 - val_accuracy: 0.9937\n",
      "Epoch 23/50\n",
      "750/750 [==============================] - 25s 33ms/step - loss: 0.0165 - accuracy: 0.9944 - val_loss: 0.0341 - val_accuracy: 0.9920\n",
      "Epoch 24/50\n",
      "750/750 [==============================] - 25s 33ms/step - loss: 0.0148 - accuracy: 0.9952 - val_loss: 0.0339 - val_accuracy: 0.9921\n",
      "Epoch 25/50\n",
      "750/750 [==============================] - 25s 33ms/step - loss: 0.0143 - accuracy: 0.9951 - val_loss: 0.0352 - val_accuracy: 0.9919\n",
      "Epoch 26/50\n",
      "750/750 [==============================] - 25s 33ms/step - loss: 0.0151 - accuracy: 0.9951 - val_loss: 0.0330 - val_accuracy: 0.9921\n",
      "Epoch 27/50\n",
      "750/750 [==============================] - 24s 32ms/step - loss: 0.0119 - accuracy: 0.9962 - val_loss: 0.0352 - val_accuracy: 0.9920\n",
      "Epoch 28/50\n",
      "750/750 [==============================] - 24s 33ms/step - loss: 0.0124 - accuracy: 0.9955 - val_loss: 0.0329 - val_accuracy: 0.9923\n",
      "Epoch 29/50\n",
      "750/750 [==============================] - 24s 32ms/step - loss: 0.0132 - accuracy: 0.9953 - val_loss: 0.0338 - val_accuracy: 0.9927\n",
      "Epoch 30/50\n",
      "750/750 [==============================] - 25s 33ms/step - loss: 0.0121 - accuracy: 0.9960 - val_loss: 0.0350 - val_accuracy: 0.9921\n",
      "Epoch 31/50\n",
      "750/750 [==============================] - 26s 34ms/step - loss: 0.0125 - accuracy: 0.9960 - val_loss: 0.0362 - val_accuracy: 0.9927\n",
      "Epoch 32/50\n",
      "750/750 [==============================] - 25s 33ms/step - loss: 0.0115 - accuracy: 0.9961 - val_loss: 0.0404 - val_accuracy: 0.9912\n",
      "Epoch 33/50\n",
      "750/750 [==============================] - 25s 33ms/step - loss: 0.0116 - accuracy: 0.9959 - val_loss: 0.0358 - val_accuracy: 0.9923\n",
      "Epoch 34/50\n",
      "750/750 [==============================] - 27s 36ms/step - loss: 0.0102 - accuracy: 0.9961 - val_loss: 0.0343 - val_accuracy: 0.9927\n",
      "Epoch 35/50\n",
      "750/750 [==============================] - 27s 36ms/step - loss: 0.0109 - accuracy: 0.9962 - val_loss: 0.0363 - val_accuracy: 0.9927\n",
      "Epoch 36/50\n",
      "750/750 [==============================] - 25s 33ms/step - loss: 0.0108 - accuracy: 0.9963 - val_loss: 0.0342 - val_accuracy: 0.9923\n",
      "Epoch 37/50\n",
      "750/750 [==============================] - 26s 34ms/step - loss: 0.0103 - accuracy: 0.9965 - val_loss: 0.0344 - val_accuracy: 0.9926\n",
      "Epoch 38/50\n",
      "750/750 [==============================] - 25s 33ms/step - loss: 0.0084 - accuracy: 0.9970 - val_loss: 0.0399 - val_accuracy: 0.9924\n",
      "Epoch 39/50\n",
      "750/750 [==============================] - 25s 33ms/step - loss: 0.0092 - accuracy: 0.9966 - val_loss: 0.0337 - val_accuracy: 0.9930\n",
      "Epoch 40/50\n",
      "750/750 [==============================] - 24s 32ms/step - loss: 0.0089 - accuracy: 0.9972 - val_loss: 0.0388 - val_accuracy: 0.9918\n",
      "Epoch 41/50\n",
      "750/750 [==============================] - 28s 37ms/step - loss: 0.0088 - accuracy: 0.9970 - val_loss: 0.0381 - val_accuracy: 0.9922\n",
      "Epoch 42/50\n",
      "750/750 [==============================] - 30s 39ms/step - loss: 0.0094 - accuracy: 0.9969 - val_loss: 0.0340 - val_accuracy: 0.9926\n",
      "Epoch 43/50\n",
      "750/750 [==============================] - 29s 39ms/step - loss: 0.0085 - accuracy: 0.9970 - val_loss: 0.0398 - val_accuracy: 0.9923\n",
      "Epoch 44/50\n",
      "750/750 [==============================] - 27s 36ms/step - loss: 0.0079 - accuracy: 0.9973 - val_loss: 0.0396 - val_accuracy: 0.9923\n",
      "Epoch 45/50\n",
      "750/750 [==============================] - 27s 36ms/step - loss: 0.0076 - accuracy: 0.9976 - val_loss: 0.0375 - val_accuracy: 0.9927\n",
      "Epoch 46/50\n",
      "750/750 [==============================] - 27s 36ms/step - loss: 0.0075 - accuracy: 0.9974 - val_loss: 0.0372 - val_accuracy: 0.9924\n",
      "Epoch 47/50\n",
      "750/750 [==============================] - 27s 36ms/step - loss: 0.0070 - accuracy: 0.9975 - val_loss: 0.0360 - val_accuracy: 0.9931\n",
      "Epoch 48/50\n",
      "750/750 [==============================] - 26s 35ms/step - loss: 0.0075 - accuracy: 0.9976 - val_loss: 0.0406 - val_accuracy: 0.9917\n",
      "Epoch 49/50\n",
      "750/750 [==============================] - 27s 36ms/step - loss: 0.0066 - accuracy: 0.9976 - val_loss: 0.0388 - val_accuracy: 0.9924\n",
      "Epoch 50/50\n",
      "545/750 [====================>.........] - ETA: 7s - loss: 0.0070 - accuracy: 0.9977"
     ]
    }
   ],
   "source": [
    "scores, histories = evaluate_model(trainX, trainY, model)"
   ]
  },
  {
   "cell_type": "code",
   "execution_count": 18,
   "metadata": {
    "colab": {
     "base_uri": "https://localhost:8080/",
     "height": 499
    },
    "id": "jzBL0-m-HcC5",
    "outputId": "d696e7b4-0aff-4009-df50-1e3982217935"
   },
   "outputs": [
    {
     "data": {
      "image/png": "[encoded data removed]",
      "text/plain": [
       "<Figure size 864x576 with 2 Axes>"
      ]
     },
     "metadata": {
      "needs_background": "light"
     },
     "output_type": "display_data"
    }
   ],
   "source": [
    "summarize_diagnostics(history)"
   ]
  },
  {
   "cell_type": "code",
   "execution_count": 19,
   "metadata": {
    "colab": {
     "base_uri": "https://localhost:8080/"
    },
    "id": "wi3FfemvHiYO",
    "outputId": "6343fb2a-61f2-47fc-ee1e-22b8adb3d497"
   },
   "outputs": [
    {
     "name": "stdout",
     "output_type": "stream",
     "text": [
      "313/313 [==============================] - 5s 17ms/step - loss: 0.0268 - accuracy: 0.9950\n"
     ]
    }
   ],
   "source": [
    "accuracy = model.evaluate(testX, testY)"
   ]
  },
  {
   "cell_type": "code",
   "execution_count": 20,
   "metadata": {
    "id": "jYyd93FmHqBx"
   },
   "outputs": [],
   "source": [
    "predY = model.predict(testX)"
   ]
  },
  {
   "cell_type": "code",
   "execution_count": 21,
   "metadata": {
    "colab": {
     "base_uri": "https://localhost:8080/"
    },
    "id": "p-PHcZdXHt-y",
    "outputId": "71252ece-ebe5-4536-d8f6-1c35e713564b"
   },
   "outputs": [
    {
     "data": {
      "text/plain": [
       "array([[2.8933803e-19, 1.3860109e-18, 3.9106502e-17, 5.7194740e-16,\n",
       "        2.6963527e-14, 1.8492901e-18, 1.8285016e-22, 1.0000000e+00,\n",
       "        3.9704404e-20, 5.7715745e-15]], dtype=float32)"
      ]
     },
     "execution_count": 21,
     "metadata": {},
     "output_type": "execute_result"
    }
   ],
   "source": [
    "predY[:1]"
   ]
  },
  {
   "cell_type": "code",
   "execution_count": 22,
   "metadata": {
    "id": "ZKAuclxOHw_6"
   },
   "outputs": [],
   "source": [
    "predY = np.argmax(predY, axis = 1)"
   ]
  },
  {
   "cell_type": "code",
   "execution_count": 23,
   "metadata": {
    "colab": {
     "base_uri": "https://localhost:8080/"
    },
    "id": "4XWye71GH3MS",
    "outputId": "479037b8-e74b-406d-d2bf-06c86026c245"
   },
   "outputs": [
    {
     "name": "stdout",
     "output_type": "stream",
     "text": [
      "Confusion Matrix\n",
      "Classification Report\n",
      "              precision    recall  f1-score   support\n",
      "\n",
      "           0       1.00      1.00      1.00       980\n",
      "           1       1.00      1.00      1.00      1135\n",
      "           2       1.00      1.00      1.00      1032\n",
      "           3       1.00      1.00      1.00      1010\n",
      "           4       0.99      1.00      0.99       982\n",
      "           5       0.99      0.99      0.99       892\n",
      "           6       1.00      0.99      0.99       958\n",
      "           7       0.99      1.00      0.99      1028\n",
      "           8       1.00      0.99      1.00       974\n",
      "           9       1.00      0.99      0.99      1009\n",
      "\n",
      "    accuracy                           0.99     10000\n",
      "   macro avg       0.99      0.99      0.99     10000\n",
      "weighted avg       1.00      0.99      0.99     10000\n",
      "\n"
     ]
    }
   ],
   "source": [
    "confusion_metric(testY1, predY)"
   ]
  },
  {
   "cell_type": "code",
   "execution_count": 24,
   "metadata": {
    "colab": {
     "base_uri": "https://localhost:8080/",
     "height": 514
    },
    "id": "RLTtzAWmH7qG",
    "outputId": "2c96d78b-d55a-4e72-958f-af0a06a67745"
   },
   "outputs": [
    {
     "name": "stdout",
     "output_type": "stream",
     "text": [
      "ROC AUC score: {0.997185647017325}\n"
     ]
    },
    {
     "data": {
      "image/png": "[encoded data removed]",
      "text/plain": [
       "<Figure size 864x576 with 1 Axes>"
      ]
     },
     "metadata": {
      "needs_background": "light"
     },
     "output_type": "display_data"
    }
   ],
   "source": [
    "multiclass_roc_auc_score(testY1, predY)"
   ]
  }
 ],
 "metadata": {
  "colab": {
   "collapsed_sections": [],
   "name": "FINAL MODEL.ipynb",
   "provenance": []
  },
  "kernelspec": {
   "display_name": "Python 3 (ipykernel)",
   "language": "python",
   "name": "python3"
  },
  "language_info": {
   "codemirror_mode": {
    "name": "ipython",
    "version": 3
   },
   "file_extension": ".py",
   "mimetype": "text/x-python",
   "name": "python",
   "nbconvert_exporter": "python",
   "pygments_lexer": "ipython3",
   "version": "3.9.12"
  }
 },
 "nbformat": 4,
 "nbformat_minor": 1
}
